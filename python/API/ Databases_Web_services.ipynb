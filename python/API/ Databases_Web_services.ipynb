{
 "cells": [
  {
   "cell_type": "markdown",
   "metadata": {},
   "source": [
    "#  Databases & Web services"
   ]
  },
  {
   "cell_type": "markdown",
   "metadata": {},
   "source": [
    "### Import of the modules"
   ]
  },
  {
   "cell_type": "code",
   "execution_count": 1,
   "metadata": {},
   "outputs": [],
   "source": [
    "import requests\n",
    "import json\n",
    "import psycopg2"
   ]
  },
  {
   "cell_type": "markdown",
   "metadata": {},
   "source": [
    "### Server data connection"
   ]
  },
  {
   "cell_type": "code",
   "execution_count": 2,
   "metadata": {},
   "outputs": [],
   "source": [
    "database_host = '127.0.0.1'\n",
    "database_password = 'postgres'\n",
    "database_user = 'postgres'\n",
    "database_name = 'python_api'"
   ]
  },
  {
   "cell_type": "markdown",
   "metadata": {},
   "source": [
    "### Connection to the server"
   ]
  },
  {
   "cell_type": "code",
   "execution_count": 3,
   "metadata": {},
   "outputs": [],
   "source": [
    "connection = psycopg2.connect(\n",
    "    host = database_host,\n",
    "    user = database_user,\n",
    "    password = database_password,\n",
    "    database = database_name\n",
    "\n",
    ")\n",
    "\n",
    "cursor = connection.cursor()"
   ]
  },
  {
   "cell_type": "markdown",
   "metadata": {},
   "source": [
    "### Get the 'todos' json"
   ]
  },
  {
   "cell_type": "code",
   "execution_count": null,
   "metadata": {},
   "outputs": [],
   "source": [
    "response = requests.get(\"https://jsonplaceholder.typicode.com/todos/\")\n",
    "todos = response.json()\n",
    "\n"
   ]
  },
  {
   "cell_type": "markdown",
   "metadata": {},
   "source": [
    "### Insert the json data in the table"
   ]
  },
  {
   "cell_type": "code",
   "execution_count": null,
   "metadata": {},
   "outputs": [],
   "source": [
    "query = \"\"\"\n",
    "INSERT INTO todos (userId, id, title, completed)\n",
    "VALUES (%s, %s, %s, %s);\n",
    "\"\"\"\n",
    "\n",
    "for todo in todos:\n",
    "    data = []\n",
    "    for k in todo:\n",
    "        data.append(todo[k])\n",
    "\n",
    "\n",
    "    cursor.execute(query, (data[0],data[1],data[2],data[3]))\n",
    "connection.commit()\n",
    "\n"
   ]
  },
  {
   "cell_type": "markdown",
   "metadata": {},
   "source": [
    "### Result of the insertion of todos in the todos table\n",
    "python_api=# SELECT * FROM todos;\n",
    "\n",
    "|userid  | id  |                                   title                                   | completed |\n",
    "|--------|-----|---------------------------------------------------------------------------|-----------|\n",
    "|      1 |   1 | delectus aut autem                                                        | f|\n",
    "|      1 |   2 | quis ut nam facilis et officia qui                                        | f|\n",
    "|      1 |   3 | fugiat veniam minus                                                       | f|\n",
    "|      1 |   4 | et porro tempora                                                          | t|\n",
    "|      1 |   5 | laboriosam mollitia et enim quasi adipisci quia provident illum           | f|\n",
    "|      1 |   6 | qui ullam ratione quibusdam voluptatem quia omnis                         | f|\n",
    "|      1 |   7 | illo expedita consequatur quia in                                         | f|\n",
    "|      1 |   8 | quo adipisci enim quam ut ab                                              | t|\n",
    "|      1 |   9 | molestiae perspiciatis ipsa                                               | f|\n",
    "|      1 |  10 | illo est ratione doloremque quia maiores aut                              | t|\n",
    "|      1 |  11 | vero rerum temporibus dolor                                               | t|\n",
    "|      1 |  12 | ipsa repellendus fugit nisi                                               | t|\n",
    "|      1 |  13 | et doloremque nulla                                                       | f|\n",
    "|      1 |  14 | repellendus sunt dolores architecto voluptatum                            | t|\n",
    "|      1 |  15 | ab voluptatum amet voluptas                                               | t|\n",
    "|      1 |  16 | accusamus eos facilis sint et aut voluptatem                              | t|\n",
    "|      1 |  17 | quo laboriosam deleniti aut qui                                           | t|\n",
    "|      1 |  18 | dolorum est consequatur ea mollitia in culpa                              | f|\n",
    "|      1 |  19 | molestiae ipsa aut voluptatibus pariatur dolor nihil                      | t|\n",
    "|      1 |  20 | ullam nobis libero sapiente ad optio sint                                 | t|\n",
    "|      2 |  21 | suscipit repellat esse quibusdam voluptatem incidunt                      | f|\n",
    "|      2 |  22 | distinctio vitae autem nihil ut molestias quo                             | t|\n",
    "|      2 |  23 | et itaque necessitatibus maxime molestiae qui quas velit                  | f|\n",
    "|      2 |  24 | adipisci non ad dicta qui amet quaerat doloribus ea                       | f|\n",
    "|      2 |  25 | voluptas quo tenetur perspiciatis explicabo natus                         | t|\n",
    "|      2 |  26 | aliquam aut quasi                                                         | t|\n",
    "|      2 |  27 | veritatis pariatur delectus                                               | t|"
   ]
  },
  {
   "cell_type": "markdown",
   "metadata": {},
   "source": [
    "# script to get the other tables"
   ]
  },
  {
   "cell_type": "code",
   "execution_count": 4,
   "metadata": {},
   "outputs": [],
   "source": [
    "def get_json(from_):\n",
    "    response = requests.get(f\"https://jsonplaceholder.typicode.com/{from_}/\")\n",
    "    return response.json()"
   ]
  },
  {
   "cell_type": "markdown",
   "metadata": {},
   "source": [
    "### the function to_string get and concatene the data where the values of the dicctionary are others dictionaries"
   ]
  },
  {
   "cell_type": "code",
   "execution_count": 5,
   "metadata": {},
   "outputs": [],
   "source": [
    "def to_string(datos):\n",
    "    data_list = []\n",
    "    for d in datos:\n",
    "        if d == 'geo':\n",
    "            d = to_string(datos[d])\n",
    "            data_list.append(d)\n",
    "        else:\n",
    "            data_list.append(datos[d])\n",
    "    \n",
    "    return ', '.join(data_list)"
   ]
  },
  {
   "cell_type": "markdown",
   "metadata": {},
   "source": [
    "### iterate the json as a dictionary to get a list of the data by each json object"
   ]
  },
  {
   "cell_type": "code",
   "execution_count": 6,
   "metadata": {},
   "outputs": [],
   "source": [
    "def fetch_data(json, query):\n",
    "    print\n",
    "    for j_data in json:\n",
    "        data = []\n",
    "        for k in j_data:\n",
    "            if k == 'address' or k == 'company':\n",
    "                d = to_string(j_data[k])\n",
    "            else:\n",
    "                d = j_data[k]\n",
    "            data.append(d)\n",
    "        \n",
    "        \n",
    "        cursor.execute(query, tuple(data))\n",
    "    connection.commit()"
   ]
  },
  {
   "cell_type": "markdown",
   "metadata": {},
   "source": [
    "### in this script we define the querys to use for each json object to insert in the respective table"
   ]
  },
  {
   "cell_type": "code",
   "execution_count": 7,
   "metadata": {},
   "outputs": [
    {
     "name": "stdout",
     "output_type": "stream",
     "text": [
      "photos\n",
      "albums\n",
      "comments\n",
      "posts\n",
      "users\n",
      "CPU times: user 174 ms, sys: 79.8 ms, total: 254 ms\n",
      "Wall time: 2.06 s\n"
     ]
    }
   ],
   "source": [
    "%%time\n",
    "query_users = \"\"\"\n",
    "INSERT INTO users\n",
    "VALUES (%s, %s, %s, %s, %s, %s, %s, %s);\n",
    "\"\"\"\n",
    "query_photos = \"\"\"\n",
    "INSERT INTO photos\n",
    "VALUES (%s, %s, %s, %s, %s);\n",
    "\"\"\"\n",
    "\n",
    "query_albums = \"\"\"\n",
    "INSERT INTO albums\n",
    "VALUES (%s, %s, %s);\n",
    "\"\"\"\n",
    "\n",
    "query_posts = \"\"\"\n",
    "INSERT INTO posts\n",
    "VALUES (%s, %s, %s, %s);\n",
    "\"\"\"\n",
    "\n",
    "query_comments = \"\"\"\n",
    "INSERT INTO comments\n",
    "VALUES (%s, %s, %s, %s, %s);\n",
    "\"\"\"\n",
    "\n",
    "resources = {'photos': query_photos, 'albums': query_albums, 'comments': query_comments, 'posts': query_posts, 'users': query_users}\n",
    "\n",
    "for r in resources:\n",
    "    print(r)\n",
    "    json = get_json(r)\n",
    "    fetch_data(json, resources[r])\n",
    "\n",
    "\n"
   ]
  },
  {
   "cell_type": "code",
   "execution_count": 9,
   "metadata": {},
   "outputs": [],
   "source": [
    "connection.close()"
   ]
  }
 ],
 "metadata": {
  "interpreter": {
   "hash": "916dbcbb3f70747c44a77c7bcd40155683ae19c65e1c03b4aa3499c5328201f1"
  },
  "kernelspec": {
   "display_name": "Python 3.8.10 64-bit",
   "language": "python",
   "name": "python3"
  },
  "language_info": {
   "codemirror_mode": {
    "name": "ipython",
    "version": 3
   },
   "file_extension": ".py",
   "mimetype": "text/x-python",
   "name": "python",
   "nbconvert_exporter": "python",
   "pygments_lexer": "ipython3",
   "version": "3.8.10"
  },
  "orig_nbformat": 4
 },
 "nbformat": 4,
 "nbformat_minor": 2
}
