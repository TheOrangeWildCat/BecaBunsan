{
 "cells": [
  {
   "cell_type": "markdown",
   "metadata": {},
   "source": [
    "de-10223-8_UTF8.txt\n",
    "fr-10682-8_UTF8.txt\n",
    "es-11529-8_UTF8.txt\n",
    "en-10012-8_UTF8.txt"
   ]
  },
  {
   "cell_type": "markdown",
   "metadata": {},
   "source": [
    "# CONTAR LOS CARACTERES "
   ]
  },
  {
   "cell_type": "code",
   "execution_count": null,
   "metadata": {},
   "outputs": [],
   "source": [
    "import re"
   ]
  },
  {
   "cell_type": "markdown",
   "metadata": {},
   "source": [
    "READ THE LARGEST FILE IN ENGLISH"
   ]
  },
  {
   "cell_type": "code",
   "execution_count": null,
   "metadata": {},
   "outputs": [],
   "source": [
    "with open(\"books/en-10012-8_UTF8.txt\", encoding = 'utf-8') as file:\n",
    "    lines=file.readlines()"
   ]
  },
  {
   "cell_type": "markdown",
   "metadata": {},
   "source": [
    "READ THE LARGEST FILE IN GERMAN"
   ]
  },
  {
   "cell_type": "code",
   "execution_count": null,
   "metadata": {},
   "outputs": [],
   "source": [
    "with open(\"books/de-10223-8_UTF8.txt\", encoding = 'utf-8') as file:\n",
    "    lines=file.readlines()"
   ]
  },
  {
   "cell_type": "markdown",
   "metadata": {},
   "source": [
    "READ THE LARGEST FILE IN FRENCH"
   ]
  },
  {
   "cell_type": "code",
   "execution_count": null,
   "metadata": {},
   "outputs": [],
   "source": [
    "with open(\"books/fr-10682-8_UTF8.txt\", encoding = 'utf-8') as file:\n",
    "    lines=file.readlines()"
   ]
  },
  {
   "cell_type": "markdown",
   "metadata": {},
   "source": [
    "READ THE LARGEST FILE IN SPANISH"
   ]
  },
  {
   "cell_type": "code",
   "execution_count": null,
   "metadata": {},
   "outputs": [],
   "source": [
    "with open(\"books/es-11529-8_UTF8.txt\", encoding = 'utf-8') as file:\n",
    "    lines=file.readlines()"
   ]
  },
  {
   "cell_type": "markdown",
   "metadata": {},
   "source": [
    "COUNT CHARACTERS "
   ]
  },
  {
   "cell_type": "code",
   "execution_count": null,
   "metadata": {},
   "outputs": [],
   "source": [
    "%%time\n",
    "start = False\n",
    "characters = {}\n",
    "\n",
    "\n",
    "\n",
    "for line in lines:                      #* HERE WE ITERATE THE LINES IN THE BOOK\n",
    "\n",
    "    x = re.search('^\\*{3}', line)       #* HERE WE FIND THE START OF THE BOOK WITH A REGEX THAT CHECK IF THE LINE STARTS WITH 3 ASTERISKS *\n",
    "    if x != None and start == False:    #* WHEN WE FIND THE LINE WICH STARTS WIT 3 ASTERISK AND THE SATART FLAG IS FALSE \n",
    "        print(line)                     #* PRINT THAT LINE\n",
    "        start = True                    #* AND NOW THE FLAG START IS TRUE AND WE CAN START CHEKING AND PROCESSING THE NEXT LINES\n",
    "        x = None                        #* RESTART OUR INDICATOR OF THE FIRST LINE BECAUSE WE WILL USE TO FIND THE END OF THE BOOK\n",
    "        continue                        #* JUMP TO THE NEXT LINE IN LINES (NEXT ITERATION) \n",
    "    if x != None and start == True:     #* IF WE FOUND THE LAST LINE OF THE BOOK AND WE HAVE ALREADY STARTED \n",
    "        print(line)                     #* PRINT THE LAST LINE AND GET OUT THE CICLE FOR\n",
    "        break\n",
    "\n",
    "    if start == True :                  #* IF WE'VE ALREADY WORKING\n",
    "        for char in line:               #* WE CHECK EVERY CHAR IN THE LINE AND \n",
    "            if char not in characters:  #* CHECK IF THE CHAR IS ALREADY REGISTERED IN THE DICTIONARY\n",
    "                characters[char] = 1    #* IF THE CHAR IS NOT REGISTERED IN THE DICTIONARY WE INITIALIZE AS KEY WITH VALUE = 1\n",
    "            if char in characters:      \n",
    "                characters[char] += 1   #* IF IS ALREADY REGISTERED INCREMENT ITS VALUE BY 1\n",
    "                \n",
    "c = 0                                   #* INITIALIZE A VAR TO COUNT THE AMOUNT OF CHARACTERS FOUND\n",
    "\n",
    "for char in sorted(characters):         #* HERE WE ITERATE THE SORTED DICTIONARY \n",
    "\n",
    "    c += 1                              \n",
    "\n",
    "    if char == \"\\n\":                    #* IF THE CHAR IS A LINE FEED WE PUT AN SPECIAL PRINT\n",
    "        print(f'{c}.- Line Feed \\ n has been used \"{characters[char]}\"')\n",
    "        continue\n",
    "        \n",
    "    print(f'{c}.- this char \"{char}\" has been repeated \"{characters[char]}\"') #*  DEPLOYS THE AMOUNT OF TIMES THAT THE CHARACTER HAS BEN FOUND\n",
    "\n",
    "\n",
    "\n",
    "\n"
   ]
  },
  {
   "cell_type": "markdown",
   "metadata": {},
   "source": [
    "# ACTIVITY 2"
   ]
  },
  {
   "cell_type": "markdown",
   "metadata": {},
   "source": [
    "COUNT CHARACTERS WITH CLEAN TEXT"
   ]
  },
  {
   "cell_type": "code",
   "execution_count": null,
   "metadata": {},
   "outputs": [],
   "source": [
    "%%time\n",
    "start = False\n",
    "characters = {}\n",
    "\n",
    "for line in lines:\n",
    "\n",
    "    x = re.search('^\\*{3}', line)\n",
    "    if x != None and start == False:\n",
    "        print(line)\n",
    "        start = True\n",
    "        x = None\n",
    "        continue\n",
    "    \n",
    "    if x != None and start == True:\n",
    "        print(line)\n",
    "        break\n",
    "\n",
    "    line = line.rstrip()                                #* HERE WE TAKE OUT THE \\n\n",
    "    line = line.lower()                                 #* HERE WE CHANGE EVERY CHAR TO  LOWERCASE\n",
    "    \n",
    "    if start == True :\n",
    "        line = re.sub('\\W', \"\", line)                   #* HERE WITH THE REGEX CHANGE THE NON ALFANUMERIC CHARACTERS BY NONE\n",
    "        line = re.sub( '[âêîôû]', 'aeiou', line)        #* AND THEN WE REPLACE EVERY SPECIAL CHARACTER FOR AN ASCII CHARACTER \n",
    "        line = re.sub( '[áéíóúý]', 'aeiouy', line)\n",
    "        line = re.sub( '[äëïöüÿ]', 'aeiouy', line)\n",
    "        line = re.sub( '[āēīōū]', 'aeiou', line)\n",
    "        line = re.sub( '[ãõñ]', 'aon', line)\n",
    "        line = re.sub( '[àòèìù]', 'aeiou', line)\n",
    "        line = re.sub( '[åøæßç]', 'ao[ae][ss]s', line)\n",
    "        \n",
    "        for char in line:\n",
    "            if char != ' ':\n",
    "                if char not in characters:\n",
    "                    characters[char] = 1\n",
    "                if char in characters:\n",
    "                    characters[char] += 1\n",
    "\n",
    "    \n",
    "c = 0\n",
    "for char in sorted(characters):\n",
    "    c += 1\n",
    "        \n",
    "    print(f'{c}.- this char \"{char}\" has been repeated \"{characters[char]}\"')\n",
    "\n"
   ]
  }
 ],
 "metadata": {
  "interpreter": {
   "hash": "97cc609b13305c559618ec78a438abc56230b9381f827f22d070313b9a1f3777"
  },
  "kernelspec": {
   "display_name": "Python 3.10.4 64-bit",
   "language": "python",
   "name": "python3"
  },
  "language_info": {
   "codemirror_mode": {
    "name": "ipython",
    "version": 3
   },
   "file_extension": ".py",
   "mimetype": "text/x-python",
   "name": "python",
   "nbconvert_exporter": "python",
   "pygments_lexer": "ipython3",
   "version": "3.10.4"
  },
  "orig_nbformat": 4
 },
 "nbformat": 4,
 "nbformat_minor": 2
}
