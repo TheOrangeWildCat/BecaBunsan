{
 "cells": [
  {
   "cell_type": "markdown",
   "metadata": {},
   "source": [
    "de-10223-8_UTF8.txt\n",
    "fr-10682-8_UTF8.txt\n",
    "es-11529-8_UTF8.txt\n",
    "en-10012-8_UTF8.txt"
   ]
  },
  {
   "cell_type": "markdown",
   "metadata": {},
   "source": [
    "# CONTAR LOS CARACTERES "
   ]
  },
  {
   "cell_type": "code",
   "execution_count": 1,
   "metadata": {},
   "outputs": [],
   "source": [
    "import re"
   ]
  },
  {
   "cell_type": "markdown",
   "metadata": {},
   "source": [
    "READ THE LARGEST FILE IN ENGLISH"
   ]
  },
  {
   "cell_type": "code",
   "execution_count": 4,
   "metadata": {},
   "outputs": [],
   "source": [
    "with open(\"books/en-10012-8_UTF8.txt\", encoding = 'utf-8') as file:\n",
    "    lines=file.readlines()"
   ]
  },
  {
   "cell_type": "markdown",
   "metadata": {},
   "source": [
    "READ THE LARGEST FILE IN GERMAN"
   ]
  },
  {
   "cell_type": "code",
   "execution_count": null,
   "metadata": {},
   "outputs": [],
   "source": [
    "with open(\"books/de-10223-8_UTF8.txt\", encoding = 'utf-8') as file:\n",
    "    lines=file.readlines()"
   ]
  },
  {
   "cell_type": "markdown",
   "metadata": {},
   "source": [
    "READ THE LARGEST FILE IN FRENCH"
   ]
  },
  {
   "cell_type": "code",
   "execution_count": null,
   "metadata": {},
   "outputs": [],
   "source": [
    "with open(\"books/fr-10682-8_UTF8.txt\", encoding = 'utf-8') as file:\n",
    "    lines=file.readlines()"
   ]
  },
  {
   "cell_type": "markdown",
   "metadata": {},
   "source": [
    "READ THE LARGEST FILE IN SPANISH"
   ]
  },
  {
   "cell_type": "code",
   "execution_count": 1,
   "metadata": {},
   "outputs": [],
   "source": [
    "with open(\"books/es-11529-8_UTF8.txt\", encoding = 'utf-8') as file:\n",
    "    lines=file.readlines()"
   ]
  },
  {
   "cell_type": "markdown",
   "metadata": {},
   "source": [
    "COUNT CHARACTERS "
   ]
  },
  {
   "cell_type": "code",
   "execution_count": 3,
   "metadata": {},
   "outputs": [
    {
     "name": "stdout",
     "output_type": "stream",
     "text": [
      "*** START OF THIS PROJECT GUTENBERG EBOOK THE MOUNTAINS OF CALIFORNIA ***\n",
      "\n",
      "*** END OF THIS PROJECT GUTENBERG EBOOK THE MOUNTAINS OF CALIFORNIA ***\n",
      "\n",
      "1.- Line Feed \\ n has been used \"8764\"\n",
      "2.- this char \" \" has been repeated \"83339\"\n",
      "3.- this char \"!\" has been repeated \"33\"\n",
      "4.- this char \"\"\" has been repeated \"205\"\n",
      "5.- this char \"$\" has been repeated \"7\"\n",
      "6.- this char \"'\" has been repeated \"161\"\n",
      "7.- this char \"(\" has been repeated \"47\"\n",
      "8.- this char \")\" has been repeated \"47\"\n",
      "9.- this char \",\" has been repeated \"7731\"\n",
      "10.- this char \"-\" has been repeated \"1761\"\n",
      "11.- this char \".\" has been repeated \"2792\"\n",
      "12.- this char \"/\" has been repeated \"9\"\n",
      "13.- this char \"0\" has been repeated \"541\"\n",
      "14.- this char \"1\" has been repeated \"153\"\n",
      "15.- this char \"2\" has been repeated \"93\"\n",
      "16.- this char \"3\" has been repeated \"64\"\n",
      "17.- this char \"4\" has been repeated \"59\"\n",
      "18.- this char \"5\" has been repeated \"94\"\n",
      "19.- this char \"6\" has been repeated \"30\"\n",
      "20.- this char \"7\" has been repeated \"44\"\n",
      "21.- this char \"8\" has been repeated \"61\"\n",
      "22.- this char \"9\" has been repeated \"34\"\n",
      "23.- this char \":\" has been repeated \"77\"\n",
      "24.- this char \";\" has been repeated \"532\"\n",
      "25.- this char \"?\" has been repeated \"14\"\n",
      "26.- this char \"A\" has been repeated \"709\"\n",
      "27.- this char \"B\" has been repeated \"334\"\n",
      "28.- this char \"C\" has been repeated \"348\"\n",
      "29.- this char \"D\" has been repeated \"250\"\n",
      "30.- this char \"E\" has been repeated \"640\"\n",
      "31.- this char \"F\" has been repeated \"275\"\n",
      "32.- this char \"G\" has been repeated \"206\"\n",
      "33.- this char \"H\" has been repeated \"370\"\n",
      "34.- this char \"I\" has been repeated \"1332\"\n",
      "35.- this char \"J\" has been repeated \"79\"\n",
      "36.- this char \"K\" has been repeated \"73\"\n",
      "37.- this char \"L\" has been repeated \"266\"\n",
      "38.- this char \"M\" has been repeated \"382\"\n",
      "39.- this char \"N\" has been repeated \"504\"\n",
      "40.- this char \"O\" has been repeated \"524\"\n",
      "41.- this char \"P\" has been repeated \"322\"\n",
      "42.- this char \"Q\" has been repeated \"18\"\n",
      "43.- this char \"R\" has been repeated \"429\"\n",
      "44.- this char \"S\" has been repeated \"868\"\n",
      "45.- this char \"T\" has been repeated \"1261\"\n",
      "46.- this char \"U\" has been repeated \"129\"\n",
      "47.- this char \"V\" has been repeated \"123\"\n",
      "48.- this char \"W\" has been repeated \"248\"\n",
      "49.- this char \"X\" has been repeated \"19\"\n",
      "50.- this char \"Y\" has been repeated \"148\"\n",
      "51.- this char \"Z\" has been repeated \"15\"\n",
      "52.- this char \"[\" has been repeated \"60\"\n",
      "53.- this char \"]\" has been repeated \"60\"\n",
      "54.- this char \"_\" has been repeated \"207\"\n",
      "55.- this char \"a\" has been repeated \"32292\"\n",
      "56.- this char \"b\" has been repeated \"6475\"\n",
      "57.- this char \"c\" has been repeated \"10296\"\n",
      "58.- this char \"d\" has been repeated \"16285\"\n",
      "59.- this char \"e\" has been repeated \"54466\"\n",
      "60.- this char \"f\" has been repeated \"11363\"\n",
      "61.- this char \"g\" has been repeated \"10454\"\n",
      "62.- this char \"h\" has been repeated \"22716\"\n",
      "63.- this char \"i\" has been repeated \"28042\"\n",
      "64.- this char \"j\" has been repeated \"255\"\n",
      "65.- this char \"k\" has been repeated \"2955\"\n",
      "66.- this char \"l\" has been repeated \"18762\"\n",
      "67.- this char \"m\" has been repeated \"9724\"\n",
      "68.- this char \"n\" has been repeated \"30657\"\n",
      "69.- this char \"o\" has been repeated \"30412\"\n",
      "70.- this char \"p\" has been repeated \"6636\"\n",
      "71.- this char \"q\" has been repeated \"455\"\n",
      "72.- this char \"r\" has been repeated \"26125\"\n",
      "73.- this char \"s\" has been repeated \"28277\"\n",
      "74.- this char \"t\" has been repeated \"35519\"\n",
      "75.- this char \"u\" has been repeated \"11107\"\n",
      "76.- this char \"v\" has been repeated \"4513\"\n",
      "77.- this char \"w\" has been repeated \"8401\"\n",
      "78.- this char \"x\" has been repeated \"715\"\n",
      "79.- this char \"y\" has been repeated \"6851\"\n",
      "80.- this char \"z\" has been repeated \"355\"\n",
      "81.- this char \"°\" has been repeated \"23\"\n",
      "82.- this char \"Ñ\" has been repeated \"6\"\n",
      "83.- this char \"é\" has been repeated \"14\"\n",
      "84.- this char \"ë\" has been repeated \"6\"\n",
      "85.- this char \"ñ\" has been repeated \"121\"\n",
      "CPU times: user 67.8 ms, sys: 0 ns, total: 67.8 ms\n",
      "Wall time: 66.9 ms\n"
     ]
    }
   ],
   "source": [
    "%%time\n",
    "start = False\n",
    "characters = {}\n",
    "\n",
    "\n",
    "\n",
    "for line in lines:                      #* HERE WE ITERATE THE LINES IN THE BOOK\n",
    "\n",
    "    x = re.search('^\\*{3}', line)       #* HERE WE FIND THE START OF THE BOOK WITH A REGEX THAT CHECK IF THE LINE STARTS WITH 3 ASTERISKS *\n",
    "    if x != None and start == False:    #* WHEN WE FIND THE LINE WICH STARTS WIT 3 ASTERISK AND THE SATART FLAG IS FALSE \n",
    "        print(line)                     #* PRINT THAT LINE\n",
    "        start = True                    #* AND NOW THE FLAG START IS TRUE AND WE CAN START CHEKING AND PROCESSING THE NEXT LINES\n",
    "        x = None                        #* RESTART OUR INDICATOR OF THE FIRST LINE BECAUSE WE WILL USE TO FIND THE END OF THE BOOK\n",
    "        continue                        #* JUMP TO THE NEXT LINE IN LINES (NEXT ITERATION) \n",
    "    if x != None and start == True:     #* IF WE FOUND THE LAST LINE OF THE BOOK AND WE HAVE ALREADY STARTED \n",
    "        print(line)                     #* PRINT THE LAST LINE AND GET OUT THE CICLE FOR\n",
    "        break\n",
    "\n",
    "    if start == True :                  #* IF WE'VE ALREADY WORKING\n",
    "        for char in line:               #* WE CHECK EVERY CHAR IN THE LINE AND \n",
    "            if char not in characters:  #* CHECK IF THE CHAR IS ALREADY REGISTERED IN THE DICTIONARY\n",
    "                characters[char] = 1    #* IF THE CHAR IS NOT REGISTERED IN THE DICTIONARY WE INITIALIZE AS KEY WITH VALUE = 1\n",
    "            if char in characters:      \n",
    "                characters[char] += 1   #* IF IS ALREADY REGISTERED INCREMENT ITS VALUE BY 1\n",
    "                \n",
    "c = 0                                   #* INITIALIZE A VAR TO COUNT THE AMOUNT OF CHARACTERS FOUND\n",
    "\n",
    "for char in sorted(characters):         #* HERE WE ITERATE THE SORTED DICTIONARY \n",
    "\n",
    "    c += 1                              \n",
    "\n",
    "    if char == \"\\n\":                    #* IF THE CHAR IS A LINE FEED WE PUT AN SPECIAL PRINT\n",
    "        print(f'{c}.- Line Feed \\ n has been used \"{characters[char]}\"')\n",
    "        continue\n",
    "        \n",
    "    print(f'{c}.- this char \"{char}\" has been repeated \"{characters[char]}\"') #*  DEPLOYS THE AMOUNT OF TIMES THAT THE CHARACTER HAS BEN FOUND\n",
    "\n",
    "\n",
    "\n",
    "\n"
   ]
  },
  {
   "cell_type": "markdown",
   "metadata": {},
   "source": [
    "# ACTIVITY 2"
   ]
  },
  {
   "cell_type": "markdown",
   "metadata": {},
   "source": [
    "COUNT CHARACTERS WITH CLEAN TEXT"
   ]
  },
  {
   "cell_type": "code",
   "execution_count": 8,
   "metadata": {},
   "outputs": [
    {
     "name": "stdout",
     "output_type": "stream",
     "text": [
      "*** START OF THIS PROJECT GUTENBERG EBOOK THE MOUNTAINS OF CALIFORNIA ***\n",
      "\n",
      "*** END OF THIS PROJECT GUTENBERG EBOOK THE MOUNTAINS OF CALIFORNIA ***\n",
      "\n",
      "425780\n",
      "1.- this char \"0\" has been repeated 541\n",
      "2.- this char \"1\" has been repeated 153\n",
      "3.- this char \"2\" has been repeated 93\n",
      "4.- this char \"3\" has been repeated 64\n",
      "5.- this char \"4\" has been repeated 59\n",
      "6.- this char \"5\" has been repeated 94\n",
      "7.- this char \"6\" has been repeated 30\n",
      "8.- this char \"7\" has been repeated 44\n",
      "9.- this char \"8\" has been repeated 61\n",
      "10.- this char \"9\" has been repeated 34\n",
      "11.- this char \"_\" has been repeated 207\n",
      "12.- this char \"a\" has been repeated 33143\n",
      "13.- this char \"b\" has been repeated 6808\n",
      "14.- this char \"c\" has been repeated 10643\n",
      "15.- this char \"d\" has been repeated 16534\n",
      "16.- this char \"e\" has been repeated 55123\n",
      "17.- this char \"f\" has been repeated 11637\n",
      "18.- this char \"g\" has been repeated 10659\n",
      "19.- this char \"h\" has been repeated 23085\n",
      "20.- this char \"i\" has been repeated 29391\n",
      "21.- this char \"j\" has been repeated 333\n",
      "22.- this char \"k\" has been repeated 3027\n",
      "23.- this char \"l\" has been repeated 19027\n",
      "24.- this char \"m\" has been repeated 10105\n",
      "25.- this char \"n\" has been repeated 31285\n",
      "26.- this char \"o\" has been repeated 31078\n",
      "27.- this char \"p\" has been repeated 6957\n",
      "28.- this char \"q\" has been repeated 472\n",
      "29.- this char \"r\" has been repeated 26553\n",
      "30.- this char \"s\" has been repeated 29144\n",
      "31.- this char \"t\" has been repeated 36779\n",
      "32.- this char \"u\" has been repeated 11253\n",
      "33.- this char \"v\" has been repeated 4635\n",
      "34.- this char \"w\" has been repeated 8648\n",
      "35.- this char \"x\" has been repeated 733\n",
      "36.- this char \"y\" has been repeated 7016\n",
      "37.- this char \"z\" has been repeated 369\n",
      "CPU times: user 140 ms, sys: 0 ns, total: 140 ms\n",
      "Wall time: 139 ms\n"
     ]
    }
   ],
   "source": [
    "%%time\n",
    "start = False\n",
    "characters = {}\n",
    "total = 0\n",
    "for line in lines:\n",
    "\n",
    "    x = re.search('^\\*{3}', line)\n",
    "    if x != None and start == False:\n",
    "        print(line)\n",
    "        start = True\n",
    "        x = None\n",
    "        continue\n",
    "    \n",
    "    if x != None and start == True:\n",
    "        print(line)\n",
    "        break\n",
    "\n",
    "    line = line.rstrip()                                #* HERE WE TAKE OUT THE \\n\n",
    "    line = line.lower()                                 #* HERE WE CHANGE EVERY CHAR TO  LOWERCASE\n",
    "    \n",
    "    if start == True :\n",
    "        line = re.sub('\\W', \"\", line)                   #* HERE WITH THE REGEX CHANGE THE NON ALFANUMERIC CHARACTERS BY NONE\n",
    "        line = re.sub( '[âêîôû]', 'aeiou', line)        #* AND THEN WE REPLACE EVERY SPECIAL CHARACTER FOR AN ASCII CHARACTER \n",
    "        line = re.sub( '[áéíóúý]', 'aeiouy', line)\n",
    "        line = re.sub( '[äëïöüÿ]', 'aeiouy', line)\n",
    "        line = re.sub( '[āēīōū]', 'aeiou', line)\n",
    "        line = re.sub( '[ãõñ]', 'aon', line)\n",
    "        line = re.sub( '[àòèìù]', 'aeiou', line)\n",
    "        line = re.sub( '[åøæßç]', 'ao[ae][ss]s', line)\n",
    "        \n",
    "        for char in line:\n",
    "            if char != ' ':\n",
    "                if char not in characters:\n",
    "                    characters[char] = 1\n",
    "                if char in characters:\n",
    "                    characters[char] += 1\n",
    "                total += 1\n",
    "\n",
    "    \n",
    "print(total)\n",
    "for c in enumerate(sorted(characters)):\n",
    "        \n",
    "    print(f'{int(c[0]) + 1}.- this char \"{c[1]}\" has been repeated {characters[c[1]]}')\n",
    "\n"
   ]
  }
 ],
 "metadata": {
  "interpreter": {
   "hash": "97cc609b13305c559618ec78a438abc56230b9381f827f22d070313b9a1f3777"
  },
  "kernelspec": {
   "display_name": "Python 3.10.4 64-bit",
   "language": "python",
   "name": "python3"
  },
  "language_info": {
   "codemirror_mode": {
    "name": "ipython",
    "version": 3
   },
   "file_extension": ".py",
   "mimetype": "text/x-python",
   "name": "python",
   "nbconvert_exporter": "python",
   "pygments_lexer": "ipython3",
   "version": "3.10.4"
  },
  "orig_nbformat": 4
 },
 "nbformat": 4,
 "nbformat_minor": 2
}
