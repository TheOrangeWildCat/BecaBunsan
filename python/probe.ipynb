{
 "cells": [
  {
   "cell_type": "code",
   "execution_count": 14,
   "metadata": {},
   "outputs": [],
   "source": [
    "def exchangeable_value(budget, exchange_rate, spread, denomination):\n",
    "    \n",
    "    \n",
    "    \"\"\"\n",
    "    \n",
    "    :param budget: float - the amount of your money you are planning to exchange.\n",
    "    :param exchange_rate: float - the unit value of the foreign currency.\n",
    "    :param spread: int - percentage that is taken as an exchange fee.\n",
    "    :param denomination: int - the value of a single bill.\n",
    "    :return: int - maximum value you can get.\n",
    "    \"\"\"\n",
    "\n",
    "    tax = exchange_rate + (exchange_rate * (spread / 100))\n",
    "    converted = budget / tax\n",
    "    money = converted // denomination\n",
    "\n",
    "    return  money * denomination"
   ]
  },
  {
   "cell_type": "code",
   "execution_count": 19,
   "metadata": {},
   "outputs": [],
   "source": [
    "def non_exchangeable_value(budget, exchange_rate, spread, denomination):\n",
    "    \"\"\"\n",
    "\n",
    "    :param budget: float - the amount of your money you are planning to exchange.\n",
    "    :param exchange_rate: float - the unit value of the foreign currency.\n",
    "    :param spread: int - percentage that is taken as an exchange fee.\n",
    "    :param denomination: int - the value of a single bill.\n",
    "    :return: int non-exchangeable value.\n",
    "    \"\"\"\n",
    "\n",
    "    tax = exchange_rate + (exchange_rate * (spread / 100))\n",
    "    converted = budget / tax\n",
    "    money = converted % denomination\n",
    "\n",
    "    return  money "
   ]
  },
  {
   "cell_type": "code",
   "execution_count": 17,
   "metadata": {},
   "outputs": [
    {
     "name": "stdout",
     "output_type": "stream",
     "text": [
      "80.0\n"
     ]
    }
   ],
   "source": [
    "print(exchangeable_value(127.5, 1.2, 10, 20))"
   ]
  },
  {
   "cell_type": "code",
   "execution_count": 20,
   "metadata": {},
   "outputs": [
    {
     "name": "stdout",
     "output_type": "stream",
     "text": [
      "16.590909090909108\n"
     ]
    }
   ],
   "source": [
    "print(non_exchangeable_value(127.5, 1.2, 10, 20))"
   ]
  },
  {
   "cell_type": "code",
   "execution_count": 8,
   "metadata": {},
   "outputs": [],
   "source": [
    "def square(number):\n",
    "    \n",
    "    if number == 1:\n",
    "        return 1\n",
    "    else:\n",
    "        return square(number-1) * 2 "
   ]
  },
  {
   "cell_type": "code",
   "execution_count": 14,
   "metadata": {},
   "outputs": [],
   "source": [
    "def total(number):\n",
    "    if number <= 0:\n",
    "        return \"square must be between 1 and 64\"\n",
    "    if number > 64:\n",
    "        return \"square must be between 1 and 64\"\n",
    "    if number == 1:\n",
    "        return 1\n",
    "    else:\n",
    "        return square(number) + total(number - 1)"
   ]
  },
  {
   "cell_type": "code",
   "execution_count": 16,
   "metadata": {},
   "outputs": [
    {
     "name": "stdout",
     "output_type": "stream",
     "text": [
      "9223372036854775808\n",
      "18446744073709551615\n"
     ]
    }
   ],
   "source": [
    "print(square(64))\n",
    "print(total(64))"
   ]
  },
  {
   "cell_type": "code",
   "execution_count": 17,
   "metadata": {},
   "outputs": [],
   "source": [
    "def is_criticality_balanced(temperature, neutrons_emitted):\n",
    "    if temperature< 800 and neutrons_emitted > 500 and (temperature * neutrons_emitted) < 500000 :\n",
    "        return True\n",
    "    else:\n",
    "        return False"
   ]
  },
  {
   "cell_type": "code",
   "execution_count": 18,
   "metadata": {},
   "outputs": [
    {
     "name": "stdout",
     "output_type": "stream",
     "text": [
      "True\n"
     ]
    }
   ],
   "source": [
    "print(is_criticality_balanced(750,600))"
   ]
  },
  {
   "cell_type": "code",
   "execution_count": 22,
   "metadata": {},
   "outputs": [],
   "source": [
    "def fail_safe(temperature, neutrons_produced_per_second, threshold):\n",
    "    param = (temperature * neutrons_produced_per_second)\n",
    "    if param < (threshold * 0.9):\n",
    "        return 'LOW'\n",
    "    elif param < (threshold * 0.1):\n",
    "        return 'NORMAL'\n",
    "    else:\n",
    "        return 'DANGER'"
   ]
  },
  {
   "cell_type": "code",
   "execution_count": 25,
   "metadata": {},
   "outputs": [
    {
     "name": "stdout",
     "output_type": "stream",
     "text": [
      "NORMAL\n"
     ]
    }
   ],
   "source": [
    "print(fail_safe(10,10000, 399))"
   ]
  },
  {
   "cell_type": "code",
   "execution_count": 28,
   "metadata": {},
   "outputs": [],
   "source": [
    "def make_word_groups(vocab_words):\n",
    "    \"\"\"Transform a list containing a prefix and words into a string with the prefix followed by the words with prefix prepended.\n",
    "\n",
    "    :param vocab_words: list - of vocabulary words with prefix in first index.\n",
    "    :return: str - of prefix followed by vocabulary words with\n",
    "            prefix applied.\n",
    "\n",
    "    This function takes a `vocab_words` list and returns a string\n",
    "    with the prefix and the words with prefix applied, separated\n",
    "     by ' :: '.\n",
    "\n",
    "    For example: list('en', 'close', 'joy', 'lighten'),\n",
    "    produces the following string: 'en :: enclose :: enjoy :: enlighten'.\n",
    "    \"\"\"\n",
    "    prefix = vocab_words[0]\n",
    "    words = (' :: '+prefix).join(vocab_words)\n",
    "    return words"
   ]
  },
  {
   "cell_type": "code",
   "execution_count": 29,
   "metadata": {},
   "outputs": [
    {
     "name": "stdout",
     "output_type": "stream",
     "text": [
      "auto :: autodidactic :: autograph :: automate :: autochrome :: autocentric :: autocomplete :: autoecholalia :: autoencoder :: autobiography\n"
     ]
    }
   ],
   "source": [
    "x = make_word_groups(['auto', 'didactic', 'graph', 'mate', 'chrome', 'centric', 'complete',\n",
    "              'echolalia', 'encoder', 'biography'])\n",
    "print(x)"
   ]
  },
  {
   "cell_type": "code",
   "execution_count": 25,
   "metadata": {},
   "outputs": [],
   "source": [
    "def remove_suffix_ness(word):\n",
    "    \"\"\"Remove the suffix from the word while keeping spelling in mind.\n",
    "\n",
    "    :param word: str - of word to remove suffix from.\n",
    "    :return: str - of word with suffix removed & spelling adjusted.\n",
    "\n",
    "    For example: \"heaviness\" becomes \"heavy\", but \"sadness\" becomes \"sad\".\n",
    "    \"\"\"\n",
    "\n",
    "    nword = word[:-4]\n",
    "    if nword[-1] == 'i':\n",
    "        nword = nword[:-1] + 'y'\n",
    "    return nword"
   ]
  },
  {
   "cell_type": "code",
   "execution_count": 26,
   "metadata": {},
   "outputs": [
    {
     "name": "stdout",
     "output_type": "stream",
     "text": [
      "heavy\n"
     ]
    }
   ],
   "source": [
    "print(remove_suffix_ness('heavyness'))"
   ]
  },
  {
   "cell_type": "code",
   "execution_count": 44,
   "metadata": {},
   "outputs": [],
   "source": [
    "def adjective_to_verb(sentence, index):\n",
    "    \"\"\"Change the adjective within the sentence to a verb.\n",
    "\n",
    "    :param sentence: str - that uses the word in sentence.\n",
    "    :param index: int - index of the word to remove and transform.\n",
    "    :return: str - word that changes the extracted adjective to a verb.\n",
    "\n",
    "    For example, (\"It got dark as the sun set\", 2) becomes \"darken\".\n",
    "    \"\"\"\n",
    "    sentence = sentence[:-1]\n",
    "    sentence = sentence.split(' ')\n",
    "    print(sentence[index])\n",
    "    return sentence[index] + 'en'"
   ]
  },
  {
   "cell_type": "code",
   "execution_count": 45,
   "metadata": {},
   "outputs": [
    {
     "name": "stdout",
     "output_type": "stream",
     "text": [
      "weak\n",
      "weaken\n"
     ]
    }
   ],
   "source": [
    "y = adjective_to_verb('Charles made weak crying noises.', 2)\n",
    "print(y)\n"
   ]
  },
  {
   "cell_type": "markdown",
   "metadata": {},
   "source": []
  },
  {
   "cell_type": "code",
   "execution_count": 52,
   "metadata": {},
   "outputs": [],
   "source": [
    "def score(x, y):\n",
    "    radius = (x*x + y*y) ** (0.5)\n",
    "    print(radius)\n",
    "    if radius > 10:\n",
    "        return 0\n",
    "    elif  radius <= 10 and radius >= 5:\n",
    "        return 1\n",
    "    elif radius < 5:\n",
    "        return 10"
   ]
  },
  {
   "cell_type": "code",
   "execution_count": 53,
   "metadata": {},
   "outputs": [
    {
     "name": "stdout",
     "output_type": "stream",
     "text": [
      "10.0\n",
      "1\n"
     ]
    }
   ],
   "source": [
    "print(score(0,10))"
   ]
  },
  {
   "cell_type": "code",
   "execution_count": 1,
   "metadata": {},
   "outputs": [
    {
     "name": "stdout",
     "output_type": "stream",
     "text": [
      "great\n"
     ]
    }
   ],
   "source": [
    "while (value := input('ingresa un valor')) != '':\n",
    "    print('great')\n"
   ]
  },
  {
   "cell_type": "code",
   "execution_count": 3,
   "metadata": {},
   "outputs": [
    {
     "name": "stdout",
     "output_type": "stream",
     "text": [
      "Please enter a number\n"
     ]
    }
   ],
   "source": [
    "inp = input('Enter Fahrenheit Temperature:')\n",
    "try:\n",
    "    fahr = float(inp)\n",
    "    cel = (fahr - 32.0) * 5.0 / 9.0\n",
    "    print(cel)\n",
    "except:\n",
    "    print('Please enter a number')"
   ]
  },
  {
   "cell_type": "code",
   "execution_count": 1,
   "metadata": {},
   "outputs": [],
   "source": [
    "def card_average(hand):\n",
    "    \"\"\"Calculate and returns the average card value from the list.\n",
    "\n",
    "    :param hand: list - cards in hand.\n",
    "    :return: float - average value of the cards in the hand.\n",
    "    \"\"\"\n",
    "    suma = 0\n",
    "    for card in hand:\n",
    "        suma += card\n",
    "\n",
    "    return suma / len(hand)"
   ]
  },
  {
   "cell_type": "code",
   "execution_count": 6,
   "metadata": {},
   "outputs": [],
   "source": [
    "def approx_average_is_average(hand):\n",
    "    \"\"\"Return if an average is using (first + last index values ) OR ('middle' card) == calculated average.\n",
    "\n",
    "    :param hand: list - cards in hand.\n",
    "    :return: bool - does one of the approximate averages equal the `true average`?\n",
    "    \"\"\"\n",
    "    aprox = (hand[0] + hand[-1]) / 2\n",
    "    middle = (len(hand) + 1) / 2\n",
    "    middle = int(middle)\n",
    "    if card_average(hand) == aprox:\n",
    "        return True\n",
    "    if card_average(hand) == hand[middle]:\n",
    "        return True\n",
    "    return False"
   ]
  },
  {
   "cell_type": "code",
   "execution_count": 8,
   "metadata": {},
   "outputs": [
    {
     "name": "stdout",
     "output_type": "stream",
     "text": [
      "False\n"
     ]
    }
   ],
   "source": [
    "print(approx_average_is_average([1, 2, 4, 5, 8]))"
   ]
  }
 ],
 "metadata": {
  "interpreter": {
   "hash": "916dbcbb3f70747c44a77c7bcd40155683ae19c65e1c03b4aa3499c5328201f1"
  },
  "kernelspec": {
   "display_name": "Python 3.8.10 64-bit",
   "language": "python",
   "name": "python3"
  },
  "language_info": {
   "codemirror_mode": {
    "name": "ipython",
    "version": 3
   },
   "file_extension": ".py",
   "mimetype": "text/x-python",
   "name": "python",
   "nbconvert_exporter": "python",
   "pygments_lexer": "ipython3",
   "version": "3.10.4"
  },
  "orig_nbformat": 4
 },
 "nbformat": 4,
 "nbformat_minor": 2
}
